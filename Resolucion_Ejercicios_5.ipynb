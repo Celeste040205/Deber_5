{
 "cells": [
  {
   "cell_type": "markdown",
   "id": "b097f6b2",
   "metadata": {},
   "source": [
    "Ejercicio 1"
   ]
  },
  {
   "cell_type": "code",
   "execution_count": 3,
   "id": "2a6df672",
   "metadata": {},
   "outputs": [
    {
     "name": "stdout",
     "output_type": "stream",
     "text": [
      "Método de Newton Tabla de iteraciones\n",
      "Iteración; p; f(p); f'(p); p_nuevo\n",
      "1; -1.000000; 4.596977e-01; -3.841471e+00; -0.880333\n",
      "2; -0.880333; 4.535115e-02; -3.095909e+00; -0.865684\n",
      "3; -0.865684; 6.323134e-04; -3.009766e+00; -0.865474\n",
      "\n",
      "Método de la Secante Tabla de iteraciones\n",
      "Iteración; p0; p1; f(p0); f(p1); p_nuevo\n",
      "2; -1.000000; -0.500000; 4.596977e-01; -7.525826e-01; -0.810400\n",
      "3; -0.500000; -0.810400; -7.525826e-01; -1.569811e-01; -0.892211\n",
      "\n",
      "¿Se puede usar p0 = 0 en Newton?\n",
      "f(0) = -1.000000e+00\n",
      "f'(0) = 0.000000e+00\n",
      "No se puede usar p0 = 0 en Newton: f'(0) = 0 (división por cero).\n"
     ]
    }
   ],
   "source": [
    "import math\n",
    "\n",
    "def f(x):\n",
    "    return -x**3 - math.cos(x)\n",
    "\n",
    "def df(x):\n",
    "    return -3*x**2 + math.sin(x)\n",
    "\n",
    "def newton(p0, tol=1e-6):\n",
    "    print(\"Método de Newton Tabla de iteraciones\")\n",
    "    print(\"Iteración; p; f(p); f'(p); p_nuevo\")\n",
    "    for i in range(3):  # Hasta p2\n",
    "        f_p = f(p0)\n",
    "        df_p = df(p0)\n",
    "        if df_p == 0:\n",
    "            print(f\"f'({p0}) = 0, división por cero.\")\n",
    "            return None\n",
    "        p1 = p0 - f_p / df_p\n",
    "        print(f\"{i+1}; {p0:.6f}; {f_p:.6e}; {df_p:.6e}; {p1:.6f}\")\n",
    "        p0 = p1\n",
    "    return p0\n",
    "\n",
    "def secante(p0, p1, tol=1e-6):\n",
    "    print(\"\\nMétodo de la Secante Tabla de iteraciones\")\n",
    "    print(\"Iteración; p0; p1; f(p0); f(p1); p_nuevo\")\n",
    "    for i in range(2):  # Hasta p2\n",
    "        f0, f1 = f(p0), f(p1)\n",
    "        if f1 - f0 == 0:\n",
    "            print(\"División por cero en la secante\")\n",
    "            return None\n",
    "        p2 = p1 - f1 * (p1 - p0) / (f1 - f0)\n",
    "        print(f\"{i+2}; {p0:.6f}; {p1:.6f}; {f0:.6e}; {f1:.6e}; {p2:.6f}\")\n",
    "        p0, p1 = p1, p2\n",
    "    return p1\n",
    "\n",
    "# Ejecutar ambos métodos desde p0 = -1\n",
    "newton(-1)\n",
    "secante(-1, -0.5)\n",
    "\n",
    "# ¿Se puede usar p0 = 0 en Newton?\n",
    "print(\"\\n¿Se puede usar p0 = 0 en Newton?\")\n",
    "f0 = f(0)\n",
    "df0 = df(0)\n",
    "print(f\"f(0) = {f0:.6e}\")\n",
    "print(f\"f'(0) = {df0:.6e}\")\n",
    "if df0 == 0:\n",
    "    print(\"No se puede usar p0 = 0 en Newton: f'(0) = 0 (división por cero).\")\n",
    "else:\n",
    "    newton(0)\n"
   ]
  },
  {
   "cell_type": "markdown",
   "id": "6bbb05bc",
   "metadata": {},
   "source": [
    "Ejercicio 2 - a"
   ]
  },
  {
   "cell_type": "code",
   "execution_count": 11,
   "id": "76bbb5e8",
   "metadata": {},
   "outputs": [
    {
     "name": "stdout",
     "output_type": "stream",
     "text": [
      "\n",
      "a) x^3 - 2x^2 - 5 = 0  en [1, 4]\n",
      "Iteración; a; b; c; f(c); b - c; f(c)*f(b)\n",
      "1; 1.000000; 4.000000; 2.500000; -1.875000e+00; 1.500000; -5.062500e+01\n",
      "2; 2.500000; 4.000000; 3.250000; 8.203125e+00; 0.750000; 2.214844e+02\n",
      "3; 2.500000; 3.250000; 2.875000; 2.232422e+00; 0.375000; 1.831284e+01\n",
      "4; 2.500000; 2.875000; 2.687500; -3.442383e-02; 0.187500; -7.684851e-02\n",
      "5; 2.687500; 2.875000; 2.781250; 1.043243e+00; 0.093750; 2.328959e+00\n",
      "6; 2.687500; 2.781250; 2.734375; 4.907799e-01; 0.046875; 5.120029e-01\n",
      "7; 2.687500; 2.734375; 2.710938; 2.248092e-01; 0.023438; 1.103318e-01\n",
      "8; 2.687500; 2.710938; 2.699219; 9.435529e-02; 0.011719; 2.121193e-02\n",
      "9; 2.687500; 2.699219; 2.693359; 2.975699e-02; 0.005859; 2.807729e-03\n",
      "10; 2.687500; 2.693359; 2.690430; -2.385532e-03; 0.002930; -7.098623e-05\n",
      "11; 2.690430; 2.693359; 2.691895; 1.367269e-02; 0.001465; 4.068580e-04\n",
      "12; 2.690430; 2.691895; 2.691162; 5.640321e-03; 0.000732; 7.711836e-05\n",
      "13; 2.690430; 2.691162; 2.690796; 1.626580e-03; 0.000366; 9.174436e-06\n",
      "14; 2.690430; 2.690796; 2.690613; -3.796791e-04; 0.000183; -6.175786e-07\n",
      "Raíz aproximada: 2.690704\n",
      "\n"
     ]
    }
   ],
   "source": [
    "import math\n",
    "\n",
    "def biseccion(f, a, b, tol=1e-4, max_iter=1000):\n",
    "    if f(a)*f(b) >= 0:\n",
    "        raise ValueError(f\"f(a)·f(b) debe ser negativo en [{a},{b}]\")\n",
    "    print(\"Iteración; a; b; c; f(c); b - c; f(c)*f(b)\")\n",
    "    iteracion = 0\n",
    "    while (b - a) / 2 > tol and iteracion < max_iter:\n",
    "        iteracion += 1\n",
    "        c = (a + b) / 2\n",
    "        fc = f(c)\n",
    "        fb = f(b)\n",
    "        print(f\"{iteracion}; {a:.6f}; {b:.6f}; {c:.6f}; {fc:.6e}; {b - c:.6f}; {fc*fb:.6e}\")\n",
    "        if fc * fb < 0:\n",
    "            a = c\n",
    "        else:\n",
    "            b = c\n",
    "    return (a + b) / 2\n",
    "\n",
    "# Funciones\n",
    "def f1(x): return x**3 - 2*x**2 - 5\n",
    "def f2(x): return x**3 + 3*x**2 - 1\n",
    "def f3(x): return x - math.cos(x)\n",
    "def f4(x): return x - 0.8 - 0.2*math.sin(x)\n",
    "\n",
    "print(\"\\na) x^3 - 2x^2 - 5 = 0  en [1, 4]\")\n",
    "raiz_a = biseccion(f1, 1, 4)\n",
    "print(f\"Raíz aproximada: {raiz_a:.6f}\\n\")"
   ]
  },
  {
   "cell_type": "markdown",
   "id": "56a17f05",
   "metadata": {},
   "source": [
    "Ejercicio 2-b"
   ]
  },
  {
   "cell_type": "code",
   "execution_count": 12,
   "id": "99cb6eca",
   "metadata": {},
   "outputs": [
    {
     "name": "stdout",
     "output_type": "stream",
     "text": [
      "b) x^3 + 3x^2 - 1 = 0  en [-3, -2]\n",
      "Iteración; a; b; c; f(c); b - c; f(c)*f(b)\n",
      "1; -3.000000; -2.000000; -2.500000; 2.125000e+00; 0.500000; 6.375000e+00\n",
      "2; -3.000000; -2.500000; -2.750000; 8.906250e-01; 0.250000; 1.892578e+00\n",
      "3; -3.000000; -2.750000; -2.875000; 3.320312e-02; 0.125000; 2.957153e-02\n",
      "4; -3.000000; -2.875000; -2.937500; -4.606934e-01; 0.062500; -1.529646e-02\n",
      "5; -2.937500; -2.875000; -2.906250; -2.081604e-01; 0.031250; -6.911576e-03\n",
      "6; -2.906250; -2.875000; -2.890625; -8.609390e-02; 0.015625; -2.858587e-03\n",
      "7; -2.890625; -2.875000; -2.882812; -2.610064e-02; 0.007812; -8.666227e-04\n",
      "8; -2.882812; -2.875000; -2.878906; 3.637254e-03; 0.003906; 1.207682e-04\n",
      "9; -2.882812; -2.878906; -2.880859; -1.121017e-02; 0.001953; -4.077422e-05\n",
      "10; -2.880859; -2.878906; -2.879883; -3.781077e-03; 0.000977; -1.375274e-05\n",
      "11; -2.879883; -2.878906; -2.879395; -7.056736e-05; 0.000488; -2.566714e-07\n",
      "12; -2.879395; -2.878906; -2.879150; 1.783679e-03; 0.000244; 6.487696e-06\n",
      "13; -2.879395; -2.879150; -2.879272; 8.566401e-04; 0.000122; 1.527971e-06\n",
      "Raíz aproximada: -2.879333\n",
      "\n"
     ]
    }
   ],
   "source": [
    "print(\"b) x^3 + 3x^2 - 1 = 0  en [-3, -2]\")\n",
    "raiz_b = biseccion(f2, -3, -2)\n",
    "print(f\"Raíz aproximada: {raiz_b:.6f}\\n\")"
   ]
  },
  {
   "cell_type": "markdown",
   "id": "6500c40f",
   "metadata": {},
   "source": [
    "Ejercicio 2-c"
   ]
  },
  {
   "cell_type": "code",
   "execution_count": 13,
   "id": "2fcef3df",
   "metadata": {},
   "outputs": [
    {
     "name": "stdout",
     "output_type": "stream",
     "text": [
      "c) x - cos(x) = 0  en [0, π/2]\n",
      "Iteración; a; b; c; f(c); b - c; f(c)*f(b)\n",
      "1; 0.000000; 1.570796; 0.785398; 7.829138e-02; 0.785398; 1.229798e-01\n",
      "2; 0.000000; 0.785398; 0.392699; -5.311805e-01; 0.392699; -4.158685e-02\n",
      "3; 0.392699; 0.785398; 0.589049; -2.424210e-01; 0.196350; -1.897947e-02\n",
      "4; 0.589049; 0.785398; 0.687223; -8.578706e-02; 0.098175; -6.716388e-03\n",
      "5; 0.687223; 0.785398; 0.736311; -4.640347e-03; 0.049087; -3.632992e-04\n",
      "6; 0.736311; 0.785398; 0.760854; 3.660739e-02; 0.024544; 2.866043e-03\n",
      "7; 0.736311; 0.760854; 0.748583; 1.592835e-02; 0.012272; 5.830954e-04\n",
      "8; 0.736311; 0.748583; 0.742447; 5.630132e-03; 0.006136; 8.967874e-05\n",
      "9; 0.736311; 0.742447; 0.739379; 4.914153e-04; 0.003068; 2.766733e-06\n",
      "10; 0.736311; 0.739379; 0.737845; -2.075336e-03; 0.001534; -1.019852e-06\n",
      "11; 0.737845; 0.739379; 0.738612; -7.921781e-04; 0.000767; -3.892884e-07\n",
      "12; 0.738612; 0.739379; 0.738995; -1.504357e-04; 0.000383; -7.392643e-08\n",
      "13; 0.738995; 0.739379; 0.739187; 1.704762e-04; 0.000192; 8.377461e-08\n",
      "Raíz aproximada: 0.739091\n",
      "\n"
     ]
    }
   ],
   "source": [
    "print(\"c) x - cos(x) = 0  en [0, π/2]\")\n",
    "raiz_c = biseccion(f3, 0, math.pi/2)\n",
    "print(f\"Raíz aproximada: {raiz_c:.6f}\\n\")"
   ]
  },
  {
   "cell_type": "markdown",
   "id": "1ec43f75",
   "metadata": {},
   "source": [
    "Ejercicio 2-d"
   ]
  },
  {
   "cell_type": "code",
   "execution_count": 14,
   "id": "24e9a866",
   "metadata": {},
   "outputs": [
    {
     "name": "stdout",
     "output_type": "stream",
     "text": [
      "d) x - 0.8 - 0.2 sin(x) = 0  en [0, π/2]\n",
      "Iteración; a; b; c; f(c); b - c; f(c)*f(b)\n",
      "1; 0.000000; 1.570796; 0.785398; -1.560232e-01; 0.785398; -8.905747e-02\n",
      "2; 0.785398; 1.570796; 1.178097; 1.933213e-01; 0.392699; 1.103471e-01\n",
      "3; 0.785398; 1.178097; 0.981748; 1.545378e-02; 0.196350; 2.987546e-03\n",
      "4; 0.785398; 0.981748; 0.883573; -7.102916e-02; 0.098175; -1.097669e-03\n",
      "5; 0.883573; 0.981748; 0.932660; -2.798119e-02; 0.049087; -4.324152e-04\n",
      "6; 0.932660; 0.981748; 0.957204; -6.312951e-03; 0.024544; -9.755897e-05\n",
      "7; 0.957204; 0.981748; 0.969476; 4.557997e-03; 0.012272; 7.043830e-05\n",
      "8; 0.957204; 0.969476; 0.963340; -8.805682e-04; 0.006136; -4.013628e-06\n",
      "9; 0.963340; 0.969476; 0.966408; 1.837940e-03; 0.003068; 8.377326e-06\n",
      "10; 0.963340; 0.966408; 0.964874; 4.784925e-04; 0.001534; 8.794406e-07\n",
      "11; 0.963340; 0.964874; 0.964107; -2.010862e-04; 0.000767; -9.621823e-08\n",
      "12; 0.964107; 0.964874; 0.964490; 1.386911e-04; 0.000383; 6.636265e-08\n",
      "13; 0.964107; 0.964490; 0.964299; -3.120056e-05; 0.000192; -4.327240e-09\n",
      "Raíz aproximada: 0.964395\n",
      "\n"
     ]
    }
   ],
   "source": [
    "print(\"d) x - 0.8 - 0.2 sin(x) = 0  en [0, π/2]\")\n",
    "raiz_d = biseccion(f4, 0, math.pi/2)\n",
    "print(f\"Raíz aproximada: {raiz_d:.6f}\\n\")"
   ]
  },
  {
   "cell_type": "markdown",
   "id": "cb42f76e",
   "metadata": {},
   "source": [
    "Ejercicio 3-a"
   ]
  },
  {
   "cell_type": "code",
   "execution_count": 17,
   "id": "1ecd3527",
   "metadata": {},
   "outputs": [
    {
     "name": "stdout",
     "output_type": "stream",
     "text": [
      "Método de Newton\n",
      "Iteración;p;f(p);Error\n",
      "1;1.500000;1.831093e-02;1.235815e-02\n",
      "2;1.512358;-3.436444e-04;2.235204e-04\n",
      "3;1.512135;-1.133394e-07;7.376927e-08\n",
      "\n",
      "Método de la Secante\n",
      "Iteración;p0;p1;f(p1);Error\n",
      "1;1.000000;2.000000;-1.389056e+00;8.313847e-01\n",
      "2;2.000000;1.168615;2.883117e-01;1.429012e-01\n",
      "3;1.168615;1.311517;2.227511e-01;4.855265e-01\n",
      "4;1.311517;1.797043;-6.406561e-01;3.602651e-01\n",
      "5;1.797043;1.436778;1.032155e-01;4.998839e-02\n",
      "6;1.436778;1.486766;3.752846e-02;2.855947e-02\n",
      "7;1.486766;1.515326;-4.926109e-03;3.313826e-03\n",
      "8;1.515326;1.512012;1.883556e-04;1.220417e-04\n",
      "9;1.512012;1.512134;8.844386e-07;5.757598e-07\n",
      "\n",
      "Raíz aproximada con Newton: 1.512135\n",
      "Raíz aproximada con Secante: 1.512135\n"
     ]
    }
   ],
   "source": [
    "import math\n",
    "\n",
    "def f(x):\n",
    "    return 3 * x - math.exp(x)\n",
    "\n",
    "def df(x):\n",
    "    return 3 - math.exp(x)\n",
    "\n",
    "def newton(f, df, p0, tol=1e-5, max_iter=100):\n",
    "    print(\"Método de Newton\")\n",
    "    print(\"Iteración;p;f(p);Error\")\n",
    "    for i in range(1, max_iter + 1):\n",
    "        fp = f(p0)\n",
    "        dfp = df(p0)\n",
    "        if dfp == 0:\n",
    "            print(\"Derivada cero. Método falla.\")\n",
    "            return None\n",
    "        p = p0 - fp / dfp\n",
    "        error = abs(p - p0)\n",
    "        print(f\"{i};{p0:.6f};{fp:.6e};{error:.6e}\")\n",
    "        if error < tol:\n",
    "            return p\n",
    "        p0 = p\n",
    "    return p0\n",
    "\n",
    "def secante(f, p0, p1, tol=1e-5, max_iter=100):\n",
    "    print(\"\\nMétodo de la Secante\")\n",
    "    print(\"Iteración;p0;p1;f(p1);Error\")\n",
    "    for i in range(1, max_iter + 1):\n",
    "        fp0 = f(p0)\n",
    "        fp1 = f(p1)\n",
    "        if fp1 - fp0 == 0:\n",
    "            print(\"División por cero. Método falla.\")\n",
    "            return None\n",
    "        p = p1 - fp1 * (p1 - p0) / (fp1 - fp0)\n",
    "        error = abs(p - p1)\n",
    "        print(f\"{i};{p0:.6f};{p1:.6f};{fp1:.6e};{error:.6e}\")\n",
    "        if error < tol:\n",
    "            return p\n",
    "        p0, p1 = p1, p\n",
    "    return p1\n",
    "\n",
    "raiz_newton = newton(f, df, p0=1.5)\n",
    "raiz_secante = secante(f, p0=1.0, p1=2.0)\n",
    "\n",
    "print(f\"\\nRaíz aproximada con Newton: {raiz_newton:.6f}\")\n",
    "print(f\"Raíz aproximada con Secante: {raiz_secante:.6f}\")"
   ]
  },
  {
   "cell_type": "markdown",
   "id": "90871dd2",
   "metadata": {},
   "source": [
    "Ejercicio 3-b"
   ]
  },
  {
   "cell_type": "code",
   "execution_count": 18,
   "id": "95b4abec",
   "metadata": {},
   "outputs": [
    {
     "name": "stdout",
     "output_type": "stream",
     "text": [
      "Método de Newton\n",
      "Iteración;p;f(p);Error\n",
      "1;1.500000;-1.269477e+00;2.319030e-01\n",
      "2;1.268097;-1.235950e-01;2.797729e-02\n",
      "3;1.240120;-1.738483e-03;4.049109e-04\n",
      "4;1.239715;-3.631549e-07;8.461792e-08\n",
      "\n",
      "Método de la Secante\n",
      "Iteración;p0;p1;f(p1);Error\n",
      "1;1.000000;2.000000;-4.637497e+00;8.370749e-01\n",
      "2;2.000000;1.162925;3.165405e-01;5.348529e-02\n",
      "3;1.162925;1.216410;9.881337e-02;2.427378e-02\n",
      "4;1.216410;1.240684;-4.162930e-03;9.812944e-04\n",
      "5;1.240684;1.239703;5.057445e-05;1.177842e-05\n",
      "6;1.239703;1.239715;2.529403e-08;5.893742e-09\n",
      "\n",
      "Raíz aproximada con Newton: 1.239715\n",
      "Raíz aproximada con Secante: 1.239715\n"
     ]
    }
   ],
   "source": [
    "import math\n",
    "\n",
    "def f(x):\n",
    "    return 2 * x + 3 * math.cos(x) - math.exp(x)\n",
    "\n",
    "def df(x):\n",
    "    return 2 - 3 * math.sin(x) - math.exp(x)\n",
    "\n",
    "def newton(f, df, p0, tol=1e-5, max_iter=100):\n",
    "    print(\"Método de Newton\")\n",
    "    print(\"Iteración;p;f(p);Error\")\n",
    "    for i in range(1, max_iter + 1):\n",
    "        fp = f(p0)\n",
    "        dfp = df(p0)\n",
    "        if dfp == 0:\n",
    "            print(\"Derivada cero. Método falla.\")\n",
    "            return None\n",
    "        p = p0 - fp / dfp\n",
    "        error = abs(p - p0)\n",
    "        print(f\"{i};{p0:.6f};{fp:.6e};{error:.6e}\")\n",
    "        if error < tol:\n",
    "            return p\n",
    "        p0 = p\n",
    "\n",
    "def secante(f, p0, p1, tol=1e-5, max_iter=100):\n",
    "    print(\"\\nMétodo de la Secante\")\n",
    "    print(\"Iteración;p0;p1;f(p1);Error\")\n",
    "    for i in range(1, max_iter + 1):\n",
    "        fp0 = f(p0)\n",
    "        fp1 = f(p1)\n",
    "        if fp1 - fp0 == 0:\n",
    "            print(\"División por cero. Método falla.\")\n",
    "            return None\n",
    "        p = p1 - fp1 * (p1 - p0) / (fp1 - fp0)\n",
    "        error = abs(p - p1)\n",
    "        print(f\"{i};{p0:.6f};{p1:.6f};{fp1:.6e};{error:.6e}\")\n",
    "        if error < tol:\n",
    "            return p\n",
    "        p0, p1 = p1, p\n",
    "\n",
    "raiz_newton = newton(f, df, p0=1.5)\n",
    "raiz_secante = secante(f, p0=1.0, p1=2.0)\n",
    "\n",
    "print(f\"\\nRaíz aproximada con Newton: {raiz_newton:.6f}\")\n",
    "print(f\"Raíz aproximada con Secante: {raiz_secante:.6f}\")\n"
   ]
  },
  {
   "cell_type": "markdown",
   "id": "5ab470b2",
   "metadata": {},
   "source": [
    "Ejercicio 4-a"
   ]
  },
  {
   "cell_type": "code",
   "execution_count": 21,
   "id": "98bf2349",
   "metadata": {},
   "outputs": [
    {
     "name": "stdout",
     "output_type": "stream",
     "text": [
      "Intervalo [-1, 0]:\n",
      "Método de la Secante, inicio en p0=-1, p1=0\n",
      "Iteración;p0;p1;f(p1);Error\n",
      "1;-1.00000000;0.00000000;-9.000000e+00;2.036199e-02\n",
      "2;0.00000000;-0.02036199;-4.496381e+00;2.032927e-02\n",
      "3;-0.02036199;-0.04069126;7.087483e-03;3.199386e-05\n",
      "4;-0.04069126;-0.04065926;-5.706244e-06;2.573803e-08\n",
      "Raíz aproximada en [-1, 0]: -0.040659288315725135\n",
      "\n",
      "Intervalo [0, 1]:\n",
      "Método de la Secante, inicio en p0=0, p1=1\n",
      "Iteración;p0;p1;f(p1);Error\n",
      "1;0.00000000;1.00000000;2.700000e+01;7.500000e-01\n",
      "2;1.00000000;0.25000000;-6.250781e+01;5.237628e-01\n",
      "3;0.25000000;0.77376277;-8.383052e+01;2.059181e+00\n",
      "4;0.77376277;-1.28541778;8.796390e+02;1.880013e+00\n",
      "5;-1.28541778;0.59459552;-1.046914e+02;1.999544e-01\n",
      "6;0.59459552;0.39464110;-8.812894e+01;1.063959e+00\n",
      "7;0.39464110;-0.66931814;1.837132e+02;7.190325e-01\n",
      "8;-0.66931814;0.04971440;-1.996102e+01;7.046855e-02\n",
      "9;0.04971440;-0.02075415;-4.409574e+00;1.998118e-02\n",
      "10;-0.02075415;-0.04073533;1.685947e-02;7.610465e-05\n",
      "11;-0.04073533;-0.04065923;-1.331835e-05;6.007237e-08\n",
      "Raíz aproximada en [0, 1]: -0.04065928831557162\n"
     ]
    }
   ],
   "source": [
    "import math\n",
    "\n",
    "def f(x):\n",
    "    return 230*x**4 + 18*x**3 + 9*x**2 - 221*x - 9\n",
    "\n",
    "def secante(f, p0, p1, tol=1e-6, max_iter=100):\n",
    "    print(f\"Método de la Secante, inicio en p0={p0}, p1={p1}\")\n",
    "    print(\"Iteración;p0;p1;f(p1);Error\")\n",
    "    for i in range(1, max_iter+1):\n",
    "        fp0 = f(p0)\n",
    "        fp1 = f(p1)\n",
    "        if fp1 - fp0 == 0:\n",
    "            print(\"División por cero. Método falla.\")\n",
    "            return None\n",
    "        p = p1 - fp1*(p1 - p0)/(fp1 - fp0)\n",
    "        error = abs(p - p1)\n",
    "        print(f\"{i};{p0:.8f};{p1:.8f};{fp1:.6e};{error:.6e}\")\n",
    "        if error < tol:\n",
    "            return p\n",
    "        p0, p1 = p1, p\n",
    "\n",
    "# Intervalo [-1, 0]\n",
    "print(\"Intervalo [-1, 0]:\")\n",
    "raiz1 = secante(f, -1, 0)\n",
    "print(f\"Raíz aproximada en [-1, 0]: {raiz1}\\n\")\n",
    "\n",
    "# Intervalo [0, 1]\n",
    "print(\"Intervalo [0, 1]:\")\n",
    "raiz2 = secante(f, 0, 1)\n",
    "print(f\"Raíz aproximada en [0, 1]: {raiz2}\")\n"
   ]
  },
  {
   "cell_type": "markdown",
   "id": "4a067c72",
   "metadata": {},
   "source": [
    "Ejercicio 4-b"
   ]
  },
  {
   "cell_type": "code",
   "execution_count": 22,
   "id": "5f3c0075",
   "metadata": {},
   "outputs": [
    {
     "name": "stdout",
     "output_type": "stream",
     "text": [
      "Intervalo [-1, 0]:\n",
      "Método de Newton, inicio en p0=-0.5\n",
      "Iteración;p;f(p);Error\n",
      "1;-0.50000000;1.158750e+02;3.495475e-01\n",
      "2;-0.15045249;2.451027e+01;1.086357e-01\n",
      "3;-0.04181681;2.566408e-01;1.157470e-03\n",
      "4;-0.04065934;1.223400e-05;5.518157e-08\n",
      "Raíz aproximada en [-1, 0]: -0.04065928831575899\n",
      "\n",
      "Intervalo [0, 1]:\n",
      "Método de Newton, inicio en p0=0.5\n",
      "Iteración;p;f(p);Error\n",
      "1;0.50000000;-1.006250e+02;1.205090e+00\n",
      "2;-0.70508982;2.018363e+02;3.812987e-01\n",
      "3;-0.32379111;6.541843e+01;2.591880e-01\n",
      "4;-0.06460313;5.314007e+00;2.391698e-02\n",
      "5;-0.04068615;5.955616e-03;2.686281e-05\n",
      "6;-0.04065929;6.557148e-09;2.957608e-11\n",
      "Raíz aproximada en [0, 1]: -0.040659288315758865\n"
     ]
    }
   ],
   "source": [
    "def f(x):\n",
    "    return 230*x**4 + 18*x**3 + 9*x**2 - 221*x - 9\n",
    "\n",
    "def df(x):\n",
    "    return 920*x**3 + 54*x**2 + 18*x - 221\n",
    "\n",
    "def newton(f, df, p0, tol=1e-6, max_iter=100):\n",
    "    print(f\"Método de Newton, inicio en p0={p0}\")\n",
    "    print(\"Iteración;p;f(p);Error\")\n",
    "    p = p0\n",
    "    for i in range(1, max_iter+1):\n",
    "        fp = f(p)\n",
    "        dfp = df(p)\n",
    "        if dfp == 0:\n",
    "            print(\"Derivada cero. Método falla.\")\n",
    "            return None\n",
    "        p_new = p - fp/dfp\n",
    "        error = abs(p_new - p)\n",
    "        print(f\"{i};{p:.8f};{fp:.6e};{error:.6e}\")\n",
    "        if error < tol:\n",
    "            return p_new\n",
    "        p = p_new\n",
    "\n",
    "# Intervalo [-1, 0] (punto medio = -0.5)\n",
    "print(\"Intervalo [-1, 0]:\")\n",
    "raiz1 = newton(f, df, -0.5)\n",
    "print(f\"Raíz aproximada en [-1, 0]: {raiz1}\\n\")\n",
    "\n",
    "# Intervalo [0, 1] (punto medio = 0.5)\n",
    "print(\"Intervalo [0, 1]:\")\n",
    "raiz2 = newton(f, df, 0.5)\n",
    "print(f\"Raíz aproximada en [0, 1]: {raiz2}\")\n"
   ]
  },
  {
   "cell_type": "markdown",
   "id": "cc6e2501",
   "metadata": {},
   "source": [
    "Ejercicio 5-a"
   ]
  },
  {
   "cell_type": "code",
   "execution_count": 24,
   "id": "e398ecfb",
   "metadata": {},
   "outputs": [
    {
     "name": "stdout",
     "output_type": "stream",
     "text": [
      "Iteración;a;b;p;f(p);Error\n",
      "1;0.00000000;0.48000000;0.24000000;-5.060937e+00;2.400000e-01\n",
      "2;0.24000000;0.48000000;0.36000000;-3.874892e+00;1.200000e-01\n",
      "3;0.36000000;0.48000000;0.42000000;-2.105257e+00;6.000000e-02\n",
      "4;0.42000000;0.48000000;0.45000000;3.137515e-01;3.000000e-02\n",
      "5;0.42000000;0.45000000;0.43500000;-1.171183e+00;1.500000e-02\n",
      "6;0.43500000;0.45000000;0.44250000;-5.245212e-01;7.500000e-03\n",
      "7;0.44250000;0.45000000;0.44625000;-1.343498e-01;3.750000e-03\n",
      "8;0.44625000;0.45000000;0.44812500;8.167439e-02;1.875000e-03\n",
      "9;0.44625000;0.44812500;0.44718750;-2.823744e-02;9.375000e-04\n",
      "10;0.44718750;0.44812500;0.44765625;2.623078e-02;4.687500e-04\n",
      "\n",
      "Raíz aproximada: 0.24\n"
     ]
    }
   ],
   "source": [
    "import math\n",
    "\n",
    "def f(x):\n",
    "    return math.tan(math.pi * x) - 6\n",
    "\n",
    "def biseccion(f, a, b, iteraciones):\n",
    "    print(\"Iteración;a;b;p;f(p);Error\")\n",
    "    for i in range(1, iteraciones+1):\n",
    "        p = (a + b) / 2\n",
    "        fp = f(p)\n",
    "        error = abs(b - a) / 2\n",
    "        print(f\"{i};{a:.8f};{b:.8f};{p:.8f};{fp:.6e};{error:.6e}\")\n",
    "        if f(a) * fp < 0:\n",
    "            b = p\n",
    "        else:\n",
    "            a = p\n",
    "\n",
    "# Parámetros iniciales\n",
    "a = 0\n",
    "b = 0.48\n",
    "iteraciones = 10\n",
    "\n",
    "# Ejecutar bisección\n",
    "biseccion(f, a, b, iteraciones)\n",
    "print(\"\\nRaíz aproximada:\", (a + b) / 2)\n"
   ]
  },
  {
   "cell_type": "markdown",
   "id": "ea47ade1",
   "metadata": {},
   "source": [
    "Ejercicio 5-b"
   ]
  },
  {
   "cell_type": "code",
   "execution_count": null,
   "id": "a8650761",
   "metadata": {},
   "outputs": [
    {
     "name": "stdout",
     "output_type": "stream",
     "text": [
      "Iteración;p;f(p);Error\n",
      "1;0.00000000;-6.000000e+00;1.909859e+00\n",
      "2;1.90985932;-6.291006e+00;1.846149e+00\n",
      "3;3.75600838;-6.962943e+00;1.150013e+00\n",
      "4;4.90602130;-6.304131e+00;1.836773e+00\n",
      "5;6.74279460;-7.046329e+00;1.070704e+00\n",
      "6;7.81349852;-6.663651e+00;1.472548e+00\n",
      "7;9.28604676;-4.743349e+00;5.854032e-01\n",
      "8;9.87144993;-6.427341e+00;1.729960e+00\n",
      "9;11.60141006;-9.031917e+00;2.820645e-01\n",
      "10;11.88347451;-6.383355e+00;1.771538e+00\n",
      "\n",
      "Raíz aproximada: 0\n"
     ]
    }
   ],
   "source": [
    "import math\n",
    "\n",
    "def f(x):\n",
    "    return math.tan(math.pi * x) - 6\n",
    "\n",
    "def df(x):\n",
    "    return math.pi / (math.cos(math.pi * x) ** 2)\n",
    "\n",
    "def newton(p0, iteraciones):\n",
    "    print(\"Iteración;p;f(p);Error\")\n",
    "    for i in range(1, iteraciones + 1):\n",
    "        fp = f(p0)\n",
    "        d_fp = df(p0)\n",
    "        if d_fp == 0:\n",
    "            print(f\"Derivada cero en iteración {i}, no se puede continuar.\")\n",
    "            break\n",
    "        p = p0 - fp / d_fp\n",
    "        error = abs(p - p0)\n",
    "        print(f\"{i};{p0:.8f};{fp:.6e};{error:.6e}\")\n",
    "        p0 = p\n",
    "\n",
    "# Punto inicial\n",
    "p0 = 0\n",
    "iteraciones = 10\n",
    "\n",
    "# Ejecutar Newton\n",
    "newton(p0, iteraciones)\n",
    "print(\"\\nRaíz aproximada:\", p0)\n"
   ]
  },
  {
   "cell_type": "code",
   "execution_count": 26,
   "id": "b8b95dad",
   "metadata": {},
   "outputs": [
    {
     "name": "stdout",
     "output_type": "stream",
     "text": [
      "Iteración;p0;p1;f(p1);Error\n",
      "1;0.00000000;0.48000000;9.894545e+00;2.988058e-01\n",
      "2;0.48000000;0.18119424;-5.360105e+00;1.049929e-01\n",
      "3;0.18119424;0.28618717;-4.742211e+00;8.057989e-01\n",
      "4;0.28618717;1.09198611;-5.702695e+00;4.784283e+00\n",
      "5;1.09198611;-3.69229667;-4.551143e+00;1.890835e+01\n",
      "6;-3.69229667;-22.60064985;-2.943563e+00;3.462218e+01\n",
      "7;-22.60064985;-57.22283247;-6.842372e+00;6.076159e+01\n",
      "8;-57.22283247;3.53875815;-1.417209e+01;1.174832e+02\n",
      "9;3.53875815;-113.94440505;-5.823545e+00;8.195059e+01\n",
      "10;-113.94440505;-195.89499482;-5.657605e+00;2.794045e+03\n",
      "\n",
      "Raíz aproximada: 0.48\n"
     ]
    }
   ],
   "source": [
    "import math\n",
    "\n",
    "def f(x):\n",
    "    return math.tan(math.pi * x) - 6\n",
    "\n",
    "def secante(p0, p1, iteraciones):\n",
    "    print(\"Iteración;p0;p1;f(p1);Error\")\n",
    "    for i in range(1, iteraciones + 1):\n",
    "        f0 = f(p0)\n",
    "        f1 = f(p1)\n",
    "        if f1 - f0 == 0:\n",
    "            print(\"División por cero en la iteración\", i)\n",
    "            break\n",
    "        p = p1 - f1 * (p1 - p0) / (f1 - f0)\n",
    "        error = abs(p - p1)\n",
    "        print(f\"{i};{p0:.8f};{p1:.8f};{f1:.6e};{error:.6e}\")\n",
    "        p0, p1 = p1, p\n",
    "\n",
    "# Valores iniciales\n",
    "p0 = 0\n",
    "p1 = 0.48\n",
    "iteraciones = 10\n",
    "\n",
    "# Ejecutar método de la secante\n",
    "secante(p0, p1, iteraciones)\n",
    "print(\"\\nRaíz aproximada:\", p1)"
   ]
  },
  {
   "cell_type": "markdown",
   "id": "24f6cb89",
   "metadata": {},
   "source": [
    "Ejercicio 6"
   ]
  },
  {
   "cell_type": "code",
   "execution_count": 31,
   "id": "6b573f3c",
   "metadata": {},
   "outputs": [
    {
     "data": {
      "image/png": "[encoded data removed]",
      "text/plain": [
       "<Figure size 1000x500 with 1 Axes>"
      ]
     },
     "metadata": {},
     "output_type": "display_data"
    }
   ],
   "source": [
    "import numpy as np\n",
    "import matplotlib.pyplot as plt\n",
    "\n",
    "# Definimos la función\n",
    "def f(x):\n",
    "    return np.log(x**2 + 1) - np.exp(0.4 * x) * np.cos(np.pi * x)\n",
    "\n",
    "# Rango amplio para ver varios ceros\n",
    "x = np.linspace(-5, 30, 1000)\n",
    "y = f(x)\n",
    "\n",
    "plt.figure(figsize=(10, 5))\n",
    "plt.plot(x, y, label='f(x)')\n",
    "plt.axhline(0, color='gray', linestyle='--')\n",
    "plt.title('Gráfica de f(x) = ln(x² + 1) - e^(0.4x) cos(πx)')\n",
    "plt.xlabel('x')\n",
    "plt.ylabel('f(x)')\n",
    "plt.grid(True)\n",
    "plt.legend()\n",
    "plt.show()\n"
   ]
  },
  {
   "cell_type": "markdown",
   "id": "d94e8224",
   "metadata": {},
   "source": [
    "Ejercicio 6-a"
   ]
  },
  {
   "cell_type": "code",
   "execution_count": null,
   "id": "7746ed2b",
   "metadata": {},
   "outputs": [
    {
     "name": "stdout",
     "output_type": "stream",
     "text": [
      "a) Cero negativo ≈ -0.4341421127319336\n"
     ]
    }
   ],
   "source": [
    "import numpy as np\n",
    "from scipy.optimize import bisect, newton\n",
    "\n",
    "def f(x):\n",
    "    return np.log(x**2 + 1) - np.exp(0.4 * x) * np.cos(np.pi * x)\n",
    "\n",
    "def df(x):\n",
    "    return (2 * x) / (x**2 + 1) - 0.4 * np.exp(0.4 * x) * np.cos(np.pi * x) + np.pi * np.exp(0.4 * x) * np.sin(np.pi * x)\n",
    "\n",
    "cero_negativo = bisect(f, -1, 0, xtol=1e-6)\n",
    "print(\"a) Cero negativo ≈\", cero_negativo)"
   ]
  },
  {
   "cell_type": "markdown",
   "id": "250a170f",
   "metadata": {},
   "source": [
    "ejercicio 6-b"
   ]
  },
  {
   "cell_type": "code",
   "execution_count": 30,
   "id": "ee8325c4",
   "metadata": {},
   "outputs": [
    {
     "name": "stdout",
     "output_type": "stream",
     "text": [
      "Advertencia: f(0.8) y f(1.2) no tienen signos opuestos (f(0.8)=1.609e+00, f(1.2)=2.199e+00)\n",
      "Advertencia: f(2.3) y f(2.7) no tienen signos opuestos (f(2.3)=3.640e-01, f(2.7)=3.846e+00)\n",
      "b) Cuatro ceros positivos más pequeños ≈ [0.4506568908691406, 1.744738006591797]\n"
     ]
    }
   ],
   "source": [
    "ceros_positivos = []\n",
    "intervalos = [(0.2, 0.6), (0.8, 1.2), (1.6, 2.0), (2.3, 2.7)] \n",
    "for a, b in intervalos:\n",
    "    fa, fb = f(a), f(b)\n",
    "    if fa * fb < 0:\n",
    "        root = bisect(f, a, b, xtol=1e-6)\n",
    "        ceros_positivos.append(root)\n",
    "    else:\n",
    "        print(f\"Advertencia: f({a}) y f({b}) no tienen signos opuestos (f({a})={fa:.3e}, f({b})={fb:.3e})\")\n",
    "print(\"b) Cuatro ceros positivos más pequeños ≈\", ceros_positivos)\n"
   ]
  },
  {
   "cell_type": "markdown",
   "id": "cf5444ab",
   "metadata": {},
   "source": [
    "Ejercicio 6-c"
   ]
  },
  {
   "cell_type": "code",
   "execution_count": 32,
   "id": "9d112cf1",
   "metadata": {},
   "outputs": [
    {
     "name": "stdout",
     "output_type": "stream",
     "text": [
      "c) Una buena aproximación inicial para el enésimo cero es x ≈ n * 0.8\n"
     ]
    }
   ],
   "source": [
    "print(\"c) Una buena aproximación inicial para el enésimo cero es x ≈\", \"n * 0.8\")"
   ]
  },
  {
   "cell_type": "markdown",
   "id": "1c26ba14",
   "metadata": {},
   "source": [
    "Ejercicio 6-d"
   ]
  },
  {
   "cell_type": "code",
   "execution_count": 34,
   "id": "f947791a",
   "metadata": {},
   "outputs": [
    {
     "name": "stdout",
     "output_type": "stream",
     "text": [
      "d) 25° cero positivo ≈ 17.50166147499906\n"
     ]
    }
   ],
   "source": [
    "n = 25\n",
    "x0 = n * 0.8 \n",
    "cero_25 = newton(f, x0, fprime=df, tol=1e-6)\n",
    "print(\"d) 25° cero positivo ≈\", cero_25)"
   ]
  },
  {
   "cell_type": "markdown",
   "id": "b2f41f68",
   "metadata": {},
   "source": [
    "Ejercicio 7"
   ]
  },
  {
   "cell_type": "code",
   "execution_count": 40,
   "id": "94aa850f",
   "metadata": {},
   "outputs": [
    {
     "name": "stdout",
     "output_type": "stream",
     "text": [
      "Método de Newton:\n",
      "Iteración; p; f(p)\n",
      "1; -2.0000000000; -1.2599210499e+00\n",
      "2; 4.0000000000; 1.5874010520e+00\n",
      "3; -8.0000000000; -2.0000000000e+00\n",
      "4; 16.0000000000; 2.5198420998e+00\n",
      "5; -32.0000000000; -3.1748021039e+00\n",
      "6; 64.0000000000; 4.0000000000e+00\n",
      "7; -128.0000000000; -5.0396841996e+00\n",
      "8; 256.0000000000; 6.3496042079e+00\n",
      "9; -512.0000000000; -8.0000000000e+00\n",
      "10; 1024.0000000000; 1.0079368399e+01\n",
      "11; -2048.0000000000; -1.2699208416e+01\n",
      "12; 4096.0000000000; 1.6000000000e+01\n",
      "13; -8192.0000000000; -2.0158736798e+01\n",
      "14; 16384.0000000000; 2.5398416831e+01\n",
      "15; -32768.0000000000; -3.2000000000e+01\n",
      "16; 65536.0000000000; 4.0317473597e+01\n",
      "17; -131072.0000000000; -5.0796833663e+01\n",
      "18; 262144.0000000000; 6.4000000000e+01\n",
      "19; -524288.0000000000; -8.0634947193e+01\n",
      "20; 1048575.9999999995; 1.0159366733e+02\n",
      "\n"
     ]
    }
   ],
   "source": [
    "import numpy as np\n",
    "def f(x):\n",
    "    return np.cbrt(x) \n",
    "def df(x):\n",
    "    if abs(x) < 1e-15:\n",
    "        raise ValueError(\"Derivada no definida en x=0\")\n",
    "    return 1 / (3 * np.cbrt(x**2))\n",
    "def newton(p0, tol=1e-6, max_iter=20):\n",
    "    print(\"Método de Newton:\")\n",
    "    print(\"Iteración; p; f(p)\")\n",
    "    for i in range(max_iter):\n",
    "        try:\n",
    "            fp = f(p0)\n",
    "            dfp = df(p0)\n",
    "            p = p0 - fp / dfp\n",
    "        except (ZeroDivisionError, ValueError) as e:\n",
    "            print(f\"Error en la iteración {i+1}: {e}\")\n",
    "            break\n",
    "        print(f\"{i+1}; {p:.10f}; {f(p):.10e}\")\n",
    "        if abs(p - p0) < tol:\n",
    "            break\n",
    "        p0 = p\n",
    "    print()\n",
    "    return p\n",
    "raiz_newton = newton(1)\n",
    "\n"
   ]
  },
  {
   "cell_type": "code",
   "execution_count": 37,
   "id": "f4e8fd48",
   "metadata": {},
   "outputs": [
    {
     "name": "stdout",
     "output_type": "stream",
     "text": [
      "Método de la Secante:\n",
      "Iteración; p; f(p)\n",
      "1; -3.3980117618; -1.5034014309e+00\n",
      "2; -0.8468509643; -9.4609699292e-01\n",
      "3; 3.4840773301; 1.5159885759e+00\n",
      "4; 0.8173796733; 9.3499210656e-01\n",
      "5; -3.4741115686; -1.5145417645e+00\n",
      "6; -0.8206913426; -9.3625313308e-01\n",
      "7; 3.4752136173; 1.5147018939e+00\n",
      "8; 0.8203238673; 9.3611337237e-01\n",
      "9; -3.4750911029; -1.5146840941e+00\n",
      "10; -0.8203647039; -9.3612890567e-01\n",
      "11; 3.4751047149; 1.5146860717e+00\n",
      "12; 0.8203601666; 9.3612717980e-01\n",
      "13; -3.4751032024; -1.5146858520e+00\n",
      "14; -0.8203606707; -9.3612737157e-01\n",
      "15; 3.4751033705; 1.5146858764e+00\n",
      "16; 0.8203606147; 9.3612735026e-01\n",
      "17; -3.4751033518; -1.5146858737e+00\n",
      "18; -0.8203606209; -9.3612735263e-01\n",
      "19; 3.4751033539; 1.5146858740e+00\n",
      "20; 0.8203606202; 9.3612735236e-01\n",
      "\n"
     ]
    }
   ],
   "source": [
    "# Método de la secante\n",
    "def secante(p0, p1, tol=1e-6, max_iter=20):\n",
    "    print(\"Método de la Secante:\")\n",
    "    print(\"Iteración; p; f(p)\")\n",
    "    for i in range(max_iter):\n",
    "        try:\n",
    "            q0 = f(p0)\n",
    "            q1 = f(p1)\n",
    "            p = p1 - q1*(p1 - p0)/(q1 - q0)\n",
    "        except ZeroDivisionError:\n",
    "            print(\"División por cero\")\n",
    "            break\n",
    "        print(f\"{i+1}; {p:.10f}; {f(p):.10e}\")\n",
    "        if abs(p - p1) < tol:\n",
    "            break\n",
    "        p0, p1 = p1, p\n",
    "    print()\n",
    "    return p\n",
    "raiz_secante = secante(5, 0.5)"
   ]
  }
 ],
 "metadata": {
  "kernelspec": {
   "display_name": "Python 3",
   "language": "python",
   "name": "python3"
  },
  "language_info": {
   "codemirror_mode": {
    "name": "ipython",
    "version": 3
   },
   "file_extension": ".py",
   "mimetype": "text/x-python",
   "name": "python",
   "nbconvert_exporter": "python",
   "pygments_lexer": "ipython3",
   "version": "3.11.9"
  }
 },
 "nbformat": 4,
 "nbformat_minor": 5
}
